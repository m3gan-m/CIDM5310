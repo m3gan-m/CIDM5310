

<!DOCTYPE html>
<html lang="en" data-color-mode="auto" data-light-theme="light" data-dark-theme="dark">
  <head>
    <title>CIDM 5310 - Project Landing Page</title>
	<meta name="description" content="Materials for CIDM 5310 Project">
  </head>
  <body>
    <h1>Project Deliverables</h1>
    <meta charset="utf-8">
	<a href="https://github.com/m3gan-m"
            target="_blank">
        Github account: m3gan
      </a>
	  <br>
	  <h2>Phase One - Story to Tell</h2>
	  Research Questions<br>
	  Q1:<br>
	  Q2:<br>
	  <br>
	  <br>
	  <h3>Phase Two - Data Integration</h3>
	  <a href="https://catalog.data.gov/dataset/housing-affordability-data-system-hads" target="_blank">Data Gov link</a><br>
	  <a href="https://www.huduser.gov/portal/datasets/hads/hads.html" target="_blank">American Housing Survey: Housing Affordability Data System</a><br>
	  For this project, I pulled the most recent available data from year 2013.<br>
	  <a href="https://www.huduser.gov/portal/datasets/hads/HADS_doc.pdf" target="_blank">HADS documentation file</a><br>
	  <a href="https://m3gan.xyz/phpmyadmin/index.php" target="_blank">PhpMyAdmin link</a><br>
	  PhpMyAdmin login information:<br>
	  name: tim<br>
	  password: Password123#@!<br>
	  <br>
	  VPS login information for 167.172.137.227:<br>
	  name: lex<br>
	  password: jp4eva<br>
	  <br>
	  REST API<br>
	  At this time, I had multiple technical difficulties and was unable to do this section.<br>
	  <br>
	  <br>
	  <h4>Phase Three</h4>
	  <a href="https://m3gan.xyz/phpmyadmin/index.php" target="_blank">Add Dashboard link here</a><br>
	  <p>I uploaded this file using FileZilla.</p>
  </body>
</html>

